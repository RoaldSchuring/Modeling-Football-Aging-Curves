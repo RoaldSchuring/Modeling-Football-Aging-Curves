{
 "cells": [
  {
   "cell_type": "code",
   "execution_count": 14,
   "metadata": {},
   "outputs": [],
   "source": [
    "from plotly import __version__\n",
    "import plotly\n",
    "import plotly.graph_objs as go\n",
    "import pandas as pd"
   ]
  },
  {
   "cell_type": "code",
   "execution_count": 40,
   "metadata": {},
   "outputs": [],
   "source": [
    "compressed_fifa_ratings = pd.read_csv('compressed_player_rating_dataset.csv', encoding='latin-1')\n",
    "# compressed_fifa_ratings.set_index('player_url', inplace=True)\n",
    "\n",
    "parsed_positions = compressed_fifa_ratings['position'].str.split(' ', expand=True)\n",
    "parsed_positions.columns = ['main_position', 'position_2', 'position_3', 'position_4']\n",
    "compressed_fifa_ratings = pd.concat([compressed_fifa_ratings, parsed_positions], axis=1)\n",
    "\n",
    "compressed_fifa_ratings.drop(['Unnamed: 0', 'position'], axis=1, inplace=True)\n",
    "\n",
    "just_overall_ratings = compressed_fifa_ratings[['player_url', 'age', 'main_position', 'nationality', 'team', 'overall']].drop_duplicates()\n",
    "just_overall_ratings['age_next_year'] = just_overall_ratings['age'].apply(lambda x: x+1)\n",
    "year_over_year_ratings = pd.merge(just_overall_ratings, just_overall_ratings, left_on=['player_url', 'age_next_year'],\n",
    "                                  right_on=['player_url', 'age'], how='left').drop_duplicates()\n",
    "year_over_year_ratings = year_over_year_ratings[['player_url', 'main_position_x', 'age_x', 'age_next_year_x', 'overall_x', 'overall_y', 'nationality_y', 'team_y']]\n",
    "year_over_year_ratings.columns = ['player_url', 'main_position', 'age', 'age_next_year', 'overall', 'next_year_overall', 'nationality', 'team']\n",
    "year_over_year_ratings.dropna(inplace=True)\n",
    "\n",
    "year_over_year_ratings['diff'] = year_over_year_ratings['next_year_overall'] - year_over_year_ratings['overall']\n",
    "\n",
    "year_over_year_ratings = year_over_year_ratings.loc[(year_over_year_ratings['age'] >= 16) & (year_over_year_ratings['age'] <= 38)]"
   ]
  },
  {
   "cell_type": "code",
   "execution_count": 41,
   "metadata": {},
   "outputs": [],
   "source": [
    "# list out all available nationalities, teams and positions for the drop-down boxes\n",
    "all_nationalities = sorted(list(set(year_over_year_ratings['nationality'])))\n",
    "all_positions = sorted(list(set(year_over_year_ratings['main_position'])))\n",
    "all_teams = sorted(list(set(year_over_year_ratings['team'])))\n",
    "\n",
    "# return the items selected by the drop-down boxes\n",
    "nationalities_chosen = ['Netherlands', 'Germany']\n",
    "positions_chosen = ['CM']\n",
    "teams_chosen = []\n",
    "chosen_items = {'nationality': nationalities_chosen, 'main_position': positions_chosen, 'team': teams_chosen}\n",
    "\n",
    "all_ages = sorted(list(set(year_over_year_ratings['age'])))\n",
    "\n",
    "def filtered_aging_curves(year_over_year_ratings, chosen_items):\n",
    "    # filter the overall dataset by the selected items, and delete any duplicate values\n",
    "    for key, value in chosen_items.items():\n",
    "        if len(value) > 0:\n",
    "            year_over_year_ratings = year_over_year_ratings.loc[year_over_year_ratings[key].isin(value)]\n",
    "    year_over_year_ratings.drop_duplicates(subset=['player_url', 'age', 'age_next_year'], inplace=True)\n",
    "\n",
    "    # group by the relevant columns\n",
    "    avg_rating_changes = year_over_year_ratings.groupby(['age', 'age_next_year'], as_index=False)['diff'].mean()\n",
    "    avg_rating_changes.columns = ['age', 'age_next_year', 'diff']\n",
    "\n",
    "    avg_rating_changes['cum_sum'] = avg_rating_changes['diff'].cumsum()\n",
    "#     maximum_rating = avg_rating_changes['cum_sum'].max()\n",
    "#     avg_rating_changes['aging_curve_rating'] = avg_rating_changes['cum_sum'] - maximum_rating\n",
    "    \n",
    "    aging_curve_data = avg_rating_changes[['age', 'age_next_year', 'cum_sum']]\n",
    "    \n",
    "    return list(aging_curve_data['age']), list(aging_curve_data['cum_sum'])"
   ]
  },
  {
   "cell_type": "code",
   "execution_count": null,
   "metadata": {
    "collapsed": true
   },
   "outputs": [],
   "source": []
  },
  {
   "cell_type": "code",
   "execution_count": null,
   "metadata": {
    "collapsed": true
   },
   "outputs": [],
   "source": []
  },
  {
   "cell_type": "code",
   "execution_count": null,
   "metadata": {
    "collapsed": true
   },
   "outputs": [],
   "source": []
  },
  {
   "cell_type": "code",
   "execution_count": 43,
   "metadata": {},
   "outputs": [
    {
     "data": {
      "text/html": [
       "<script type=\"text/javascript\">window.PlotlyConfig = {MathJaxConfig: 'local'};</script><script type=\"text/javascript\">if (window.MathJax) {MathJax.Hub.Config({SVG: {font: \"STIX-Web\"}});}</script><script>requirejs.config({paths: { 'plotly': ['https://cdn.plot.ly/plotly-latest.min']},});if(!window._Plotly) {require(['plotly'],function(plotly) {window._Plotly=plotly;});}</script>"
      ],
      "text/vnd.plotly.v1+html": [
       "<script type=\"text/javascript\">window.PlotlyConfig = {MathJaxConfig: 'local'};</script><script type=\"text/javascript\">if (window.MathJax) {MathJax.Hub.Config({SVG: {font: \"STIX-Web\"}});}</script><script>requirejs.config({paths: { 'plotly': ['https://cdn.plot.ly/plotly-latest.min']},});if(!window._Plotly) {require(['plotly'],function(plotly) {window._Plotly=plotly;});}</script>"
      ]
     },
     "metadata": {},
     "output_type": "display_data"
    },
    {
     "ename": "AttributeError",
     "evalue": "'str' object has no attribute 'items'",
     "output_type": "error",
     "traceback": [
      "\u001b[1;31m---------------------------------------------------------------------------\u001b[0m",
      "\u001b[1;31mAttributeError\u001b[0m                            Traceback (most recent call last)",
      "\u001b[1;32m<ipython-input-43-4f3e36375f5e>\u001b[0m in \u001b[0;36m<module>\u001b[1;34m()\u001b[0m\n\u001b[0;32m     35\u001b[0m \u001b[1;32mfor\u001b[0m \u001b[0mi\u001b[0m \u001b[1;32min\u001b[0m \u001b[0mall_nationalities\u001b[0m\u001b[1;33m:\u001b[0m\u001b[1;33m\u001b[0m\u001b[0m\n\u001b[0;32m     36\u001b[0m     nationality_buttons.append(\n\u001b[1;32m---> 37\u001b[1;33m         dict(args=[list(filtered_aging_curves(year_over_year_ratings, i)['age']), \n\u001b[0m\u001b[0;32m     38\u001b[0m                    list(filtered_aging_curves(year_over_year_ratings, i)['cum_sum'])],\n\u001b[0;32m     39\u001b[0m              label=i, method='restyle')\n",
      "\u001b[1;32m<ipython-input-41-a55807bf710a>\u001b[0m in \u001b[0;36mfiltered_aging_curves\u001b[1;34m(year_over_year_ratings, chosen_items)\u001b[0m\n\u001b[0;32m     12\u001b[0m \u001b[1;32mdef\u001b[0m \u001b[0mfiltered_aging_curves\u001b[0m\u001b[1;33m(\u001b[0m\u001b[0myear_over_year_ratings\u001b[0m\u001b[1;33m,\u001b[0m \u001b[0mchosen_items\u001b[0m\u001b[1;33m)\u001b[0m\u001b[1;33m:\u001b[0m\u001b[1;33m\u001b[0m\u001b[0m\n\u001b[0;32m     13\u001b[0m     \u001b[1;31m# filter the overall dataset by the selected items, and delete any duplicate values\u001b[0m\u001b[1;33m\u001b[0m\u001b[1;33m\u001b[0m\u001b[0m\n\u001b[1;32m---> 14\u001b[1;33m     \u001b[1;32mfor\u001b[0m \u001b[0mkey\u001b[0m\u001b[1;33m,\u001b[0m \u001b[0mvalue\u001b[0m \u001b[1;32min\u001b[0m \u001b[0mchosen_items\u001b[0m\u001b[1;33m.\u001b[0m\u001b[0mitems\u001b[0m\u001b[1;33m(\u001b[0m\u001b[1;33m)\u001b[0m\u001b[1;33m:\u001b[0m\u001b[1;33m\u001b[0m\u001b[0m\n\u001b[0m\u001b[0;32m     15\u001b[0m         \u001b[1;32mif\u001b[0m \u001b[0mlen\u001b[0m\u001b[1;33m(\u001b[0m\u001b[0mvalue\u001b[0m\u001b[1;33m)\u001b[0m \u001b[1;33m>\u001b[0m \u001b[1;36m0\u001b[0m\u001b[1;33m:\u001b[0m\u001b[1;33m\u001b[0m\u001b[0m\n\u001b[0;32m     16\u001b[0m             \u001b[0myear_over_year_ratings\u001b[0m \u001b[1;33m=\u001b[0m \u001b[0myear_over_year_ratings\u001b[0m\u001b[1;33m.\u001b[0m\u001b[0mloc\u001b[0m\u001b[1;33m[\u001b[0m\u001b[0myear_over_year_ratings\u001b[0m\u001b[1;33m[\u001b[0m\u001b[0mkey\u001b[0m\u001b[1;33m]\u001b[0m\u001b[1;33m.\u001b[0m\u001b[0misin\u001b[0m\u001b[1;33m(\u001b[0m\u001b[0mvalue\u001b[0m\u001b[1;33m)\u001b[0m\u001b[1;33m]\u001b[0m\u001b[1;33m\u001b[0m\u001b[0m\n",
      "\u001b[1;31mAttributeError\u001b[0m: 'str' object has no attribute 'items'"
     ]
    }
   ],
   "source": [
    "plotly.offline.init_notebook_mode(connected=True)\n",
    "\n",
    "layout = go.Layout(\n",
    "    width=800,\n",
    "    height=900,\n",
    "    autosize=False,\n",
    "    margin=dict(t=0, b=0, l=0, r=0),\n",
    "    scene=dict(\n",
    "        xaxis=dict(\n",
    "            gridcolor='rgb(255, 255, 255)',\n",
    "            zerolinecolor='rgb(255, 255, 255)',\n",
    "            showbackground=True,\n",
    "            backgroundcolor='rgb(230, 230,230)'\n",
    "        ),\n",
    "        yaxis=dict(\n",
    "            gridcolor='rgb(255, 255, 255)',\n",
    "            zerolinecolor='rgb(255, 255, 255)',\n",
    "            showbackground=True,\n",
    "            backgroundcolor='rgb(230, 230, 230)'\n",
    "        ),\n",
    "        zaxis=dict(\n",
    "            gridcolor='rgb(255, 255, 255)',\n",
    "            zerolinecolor='rgb(255, 255, 255)',\n",
    "            showbackground=True,\n",
    "            backgroundcolor='rgb(230, 230,230)'\n",
    "        ),\n",
    "        aspectratio = dict(x=1, y=1, z=0.7),\n",
    "        aspectmode = 'manual'\n",
    "    )\n",
    ")\n",
    "\n",
    "\n",
    "nationality_buttons = []\n",
    "\n",
    "for i in all_nationalities:\n",
    "    nationality_buttons.append(\n",
    "        dict(args=[list(filtered_aging_curves(year_over_year_ratings, i)['age']), \n",
    "                   list(filtered_aging_curves(year_over_year_ratings, i)['cum_sum'])],\n",
    "             label=i, method='restyle')\n",
    "    )\n",
    "\n",
    "layout = go.Layout(\n",
    "\n",
    "    annotations=[dict(text='Change Nationality',\n",
    "                      x=-0.25, y=0.83,\n",
    "                      xref='paper', yref='paper',\n",
    "                      showarrow=False)],\n",
    "    updatemenus=list([\n",
    "        dict(x=-0.1, y=0.7,\n",
    "             yanchor='middle',\n",
    "             bgcolor='#ff0000',\n",
    "             buttons=list(nationality_buttons)),\n",
    "    ])\n",
    ")\n",
    "        \n",
    "\n",
    "plotly.offline.iplot({\n",
    "    \"data\": [go.Scatter(x=avg_rating_changes['age'], y=avg_rating_changes['aging_curve_rating'])],\n",
    "    \"layout\": layout\n",
    "})"
   ]
  },
  {
   "cell_type": "code",
   "execution_count": null,
   "metadata": {
    "collapsed": true
   },
   "outputs": [],
   "source": []
  },
  {
   "cell_type": "code",
   "execution_count": null,
   "metadata": {
    "collapsed": true
   },
   "outputs": [],
   "source": []
  },
  {
   "cell_type": "code",
   "execution_count": 81,
   "metadata": {},
   "outputs": [
    {
     "data": {
      "text/html": [
       "<script type=\"text/javascript\">window.PlotlyConfig = {MathJaxConfig: 'local'};</script><script type=\"text/javascript\">if (window.MathJax) {MathJax.Hub.Config({SVG: {font: \"STIX-Web\"}});}</script><script>requirejs.config({paths: { 'plotly': ['https://cdn.plot.ly/plotly-latest.min']},});if(!window._Plotly) {require(['plotly'],function(plotly) {window._Plotly=plotly;});}</script>"
      ],
      "text/vnd.plotly.v1+html": [
       "<script type=\"text/javascript\">window.PlotlyConfig = {MathJaxConfig: 'local'};</script><script type=\"text/javascript\">if (window.MathJax) {MathJax.Hub.Config({SVG: {font: \"STIX-Web\"}});}</script><script>requirejs.config({paths: { 'plotly': ['https://cdn.plot.ly/plotly-latest.min']},});if(!window._Plotly) {require(['plotly'],function(plotly) {window._Plotly=plotly;});}</script>"
      ]
     },
     "metadata": {},
     "output_type": "display_data"
    },
    {
     "data": {
      "application/vnd.jupyter.widget-view+json": {
       "model_id": "8e5620514c4a452a8b694f6ff72814ea",
       "version_major": 2,
       "version_minor": 0
      },
      "text/plain": [
       "A Jupyter Widget"
      ]
     },
     "metadata": {},
     "output_type": "display_data"
    },
    {
     "data": {
      "application/vnd.jupyter.widget-view+json": {
       "model_id": "5d3a5985d3e54281885901ec7de7aabe",
       "version_major": 2,
       "version_minor": 0
      },
      "text/plain": [
       "A Jupyter Widget"
      ]
     },
     "metadata": {},
     "output_type": "display_data"
    },
    {
     "name": "stdout",
     "output_type": "stream",
     "text": [
      "before (16, 17, 18, 19, 20, 21, 22, 23, 24, 25, 26, 27, 28, 29, 30, 31, 32, 33, 34, 35, 36, 37, 38)\n",
      "(16, 17, 18, 19, 20, 21, 22, 23, 24, 25, 26, 27, 28, 29, 30, 31, 32, 33, 34, 35, 36, 37, 38)\n",
      "before (27, 28)\n",
      "(27, 28)\n"
     ]
    }
   ],
   "source": [
    "import pandas as pd\n",
    "import plotly.plotly as py\n",
    "\n",
    "from ipywidgets import widgets\n",
    "from IPython.display import display\n",
    "import plotly.graph_objs as go\n",
    "from plotly.widgets import GraphWidget\n",
    "\n",
    "plotly.offline.init_notebook_mode(connected=True)\n",
    "\n",
    "\n",
    "nationalities = widgets.Dropdown(\n",
    "    description='Nationality:   ',\n",
    "    value='Netherlands',\n",
    "    options=all_nationalities,\n",
    ")\n",
    "\n",
    "positions = widgets.Dropdown(\n",
    "    description='Position:',\n",
    "    value='ST',\n",
    "    options=all_positions,\n",
    ")\n",
    "\n",
    "def filtered_aging_curves(year_over_year_ratings, chosen_items):\n",
    "    # filter the overall dataset by the selected items, and delete any duplicate values\n",
    "    for key, value in chosen_items.items():\n",
    "        if len(value) > 0:\n",
    "            year_over_year_ratings = year_over_year_ratings.loc[year_over_year_ratings[key].isin(value)]\n",
    "    year_over_year_ratings.drop_duplicates(subset=['player_url', 'age', 'age_next_year'], inplace=True)\n",
    "\n",
    "    # group by the relevant columns\n",
    "    avg_rating_changes = year_over_year_ratings.groupby(['age', 'age_next_year'], as_index=False)['diff'].mean()\n",
    "    avg_rating_changes.columns = ['age', 'age_next_year', 'diff']\n",
    "\n",
    "    avg_rating_changes['cum_sum'] = avg_rating_changes['diff'].cumsum()\n",
    "#     maximum_rating = avg_rating_changes['cum_sum'].max()\n",
    "#     avg_rating_changes['aging_curve_rating'] = avg_rating_changes['cum_sum'] - maximum_rating\n",
    "    \n",
    "    aging_curve_data = avg_rating_changes[['age', 'age_next_year', 'cum_sum']]\n",
    "    \n",
    "    return list(aging_curve_data['age']), list(aging_curve_data['cum_sum'])\n",
    "\n",
    "\n",
    "default_age_series, default_aging_series = filtered_aging_curves(year_over_year_ratings, {'nationality': [], 'main_position': [], 'team': []})\n",
    "scatter_plot = go.Scatter(x=default_age_series, y=default_aging_series)\n",
    "\n",
    "layout = go.Layout(\n",
    "    width=800,\n",
    "    height=900,\n",
    "    autosize=False,\n",
    "    margin=dict(t=0, b=0, l=0, r=0),\n",
    "    scene=dict(\n",
    "        xaxis=dict(\n",
    "            gridcolor='rgb(255, 255, 255)',\n",
    "            zerolinecolor='rgb(255, 255, 255)',\n",
    "            showbackground=True,\n",
    "            backgroundcolor='rgb(230, 230,230)'\n",
    "        ),\n",
    "        yaxis=dict(\n",
    "            gridcolor='rgb(255, 255, 255)',\n",
    "            zerolinecolor='rgb(255, 255, 255)',\n",
    "            showbackground=True,\n",
    "            backgroundcolor='rgb(230, 230, 230)'\n",
    "        ),\n",
    "        zaxis=dict(\n",
    "            gridcolor='rgb(255, 255, 255)',\n",
    "            zerolinecolor='rgb(255, 255, 255)',\n",
    "            showbackground=True,\n",
    "            backgroundcolor='rgb(230, 230,230)'\n",
    "        ),\n",
    "        aspectratio = dict(x=1, y=1, z=0.7),\n",
    "        aspectmode = 'manual'\n",
    "    )\n",
    ")\n",
    "\n",
    "g = go.FigureWidget(data=[scatter_plot], layout=layout)\n",
    "\n",
    "def validate():\n",
    "    if nationalities.value in all_nationalities and positions.value in all_positions:\n",
    "        return True\n",
    "    else:\n",
    "        return False\n",
    "\n",
    "\n",
    "def response(change):\n",
    "    if validate():\n",
    "        changes = {'nationality': [nationalities.value], 'main_position': [positions.value]}\n",
    "        x, y = filtered_aging_curves(year_over_year_ratings, changes)\n",
    "        with g.batch_update():\n",
    "            g.data[0].x = x\n",
    "            g.data[0].y = y\n",
    "\n",
    "\n",
    "nationalities.observe(response, names=\"value\")\n",
    "positions.observe(response, names=\"value\")\n",
    "\n",
    "filters = widgets.VBox([nationalities, positions])\n",
    "visualization = widgets.HBox([filters, g])\n",
    "display(filters)\n",
    "display(g)"
   ]
  }
 ],
 "metadata": {
  "kernelspec": {
   "display_name": "Python 3",
   "language": "python",
   "name": "python3"
  },
  "language_info": {
   "codemirror_mode": {
    "name": "ipython",
    "version": 3
   },
   "file_extension": ".py",
   "mimetype": "text/x-python",
   "name": "python",
   "nbconvert_exporter": "python",
   "pygments_lexer": "ipython3",
   "version": "3.6.3"
  }
 },
 "nbformat": 4,
 "nbformat_minor": 2
}
